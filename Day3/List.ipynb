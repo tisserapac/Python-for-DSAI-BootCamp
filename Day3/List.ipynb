{
 "cells": [
  {
   "cell_type": "code",
   "execution_count": 2,
   "metadata": {},
   "outputs": [
    {
     "name": "stdout",
     "output_type": "stream",
     "text": [
      "1: Length:  13\n",
      "2: string[0]:  S\n",
      "3: string[0:2]:  St\n",
      "4: string[:3]:  Str\n",
      "5: string[3:]:  ing is fun\n",
      "6: string[:]:  String is fun\n",
      "71: string[-2:]:  un\n",
      "8: string[-0:]:  String is fun\n",
      "9: string[::2]:  Srn sfn\n",
      "10: string[1::2]:  tigi u\n",
      "11: Replace ing with ange:  Strange is fun\n"
     ]
    }
   ],
   "source": [
    "string = \"String is fun\"\n",
    "print(\"1: Length: \", len(string))\n",
    "print(\"2: string[0]: \", string[0])\n",
    "print(\"3: string[0:2]: \", string[0:2])\n",
    "print(\"4: string[:3]: \", string[:3])\n",
    "print(\"5: string[3:]: \", string[3:])\n",
    "print(\"6: string[:]: \", string[:])\n",
    "print(\"71: string[-2:]: \", string[-2:])\n",
    "print(\"8: string[-0:]: \", string[-0:])\n",
    "print(\"9: string[::2]: \", string[::2])\n",
    "print(\"10: string[1::2]: \", string[1::2])\n",
    "print(\"11: Replace ing with ange: \", string.replace(\"ing\", \"ange\"))"
   ]
  },
  {
   "cell_type": "code",
   "execution_count": 5,
   "metadata": {},
   "outputs": [
    {
     "name": "stdout",
     "output_type": "stream",
     "text": [
      "1: Range             [0, 1, 2, 3, 4, 5, 6, 7, 8, 9]\n",
      "2: With step 2       [1, 3, 5, 7, 9]\n",
      "3: Range -5 to +5    [-5, -4, -3, -2, -1, 0, 1, 2, 3, 4]\n",
      "3: With start -10    [-10, -9, -8, -7, -6, -5, -4, -3, -2, -1]\n",
      "4: 5 zeros           [0, 0, 0, 0, 0]\n"
     ]
    }
   ],
   "source": [
    "list_num     = [1, 2, 3, 4] \n",
    "list_string  = [\"Chaky\", \"John\", \"Peter\"] \n",
    "list_combine = [\"Chaky\", 1, 2, True] \n",
    "\n",
    "print(\"1: Range            \", list(range(10))) #ange(start, stop, step)\n",
    "print(\"2: With step 2      \", list(range(1, 10, 2)))\n",
    "print(\"3: Range -5 to +5   \", list(range(-5, 5)))\n",
    "print(\"3: With start -10   \", list(range(-10,0)))\n",
    "\n",
    "\n",
    "print(\"4: 5 zeros          \", [0]*5)"
   ]
  },
  {
   "cell_type": "code",
   "execution_count": 7,
   "metadata": {},
   "outputs": [
    {
     "name": "stdout",
     "output_type": "stream",
     "text": [
      "1: Changing value at index 0 to 0:  [0, 2, 3]\n",
      "2: Changing using slicing method:  [5, 6, 3]\n"
     ]
    }
   ],
   "source": [
    "a = [1, 2, 3]\n",
    "a[0] = 0\n",
    "print(\"1: Changing value at index 0 to 0: \", a)\n",
    "a[0:2] = 5, 6\n",
    "print(\"2: Changing using slicing method: \", a)"
   ]
  },
  {
   "cell_type": "code",
   "execution_count": 16,
   "metadata": {},
   "outputs": [
    {
     "name": "stdout",
     "output_type": "stream",
     "text": [
      "1: A append c [1, 2, 3]\n",
      "1: A append b [1, 2, 3, [3]]\n",
      "2: A extend b [1, 2, 3, [3], 3]\n",
      "1: A append c [1, 2, 3, [3], 3, 3]\n"
     ]
    }
   ],
   "source": [
    "a = [1, 2]\n",
    "b = [3]\n",
    "c = 3\n",
    "a.append(b)\n",
    "print(\"1: A append b\", a)\n",
    "a.extend(b)\n",
    "print(\"2: A extend b\", a)\n",
    "a.append(c)\n",
    "print(\"1: A append c\", a)"
   ]
  },
  {
   "cell_type": "code",
   "execution_count": 21,
   "metadata": {},
   "outputs": [
    {
     "name": "stdout",
     "output_type": "stream",
     "text": [
      "1: Reverse [3, 19, 5]:  [5, 19, 3]\n",
      "1: Sorted [3, 19, 5]:  [3, 5, 19]\n",
      "2: Sorted ['Car', 'Apple', 'Boy']:  ['Apple', 'Boy', 'Car']\n",
      "3: Reverse:  None ['Car', 'Boy', 'Apple']\n"
     ]
    }
   ],
   "source": [
    "a = [3,19,5]\n",
    "a.reverse()\n",
    "print(\"1: Reverse [3, 19, 5]: \", a)\n",
    "b = [\"Car\", \"Apple\", \"Boy\"]\n",
    "a.sort()\n",
    "b.sort()\n",
    "\n",
    "print(\"1: Sorted [3, 19, 5]: \", a)\n",
    "print(\"2: Sorted ['Car', 'Apple', 'Boy']: \", b)\n",
    "print(\"3: Reverse: \", b.reverse(), b)\n",
    "\n"
   ]
  },
  {
   "cell_type": "code",
   "execution_count": 25,
   "metadata": {},
   "outputs": [
    {
     "name": "stdout",
     "output_type": "stream",
     "text": [
      "1: 3 in a? True\n",
      "2: 4 in a? False\n",
      "['Car', 'Boy', 'Apple']\n",
      "3: Car in b? True\n",
      "3: car in b? False\n"
     ]
    }
   ],
   "source": [
    "print(\"1: 3 in a?\", 3 in a)\n",
    "print(\"2: 4 in a?\", 4 in a)\n",
    "print(b)\n",
    "print(\"3: Car in b?\", 'Car' in b)\n",
    "print(\"3: car in b?\", 'car' in b)"
   ]
  },
  {
   "cell_type": "code",
   "execution_count": 30,
   "metadata": {},
   "outputs": [
    {
     "name": "stdout",
     "output_type": "stream",
     "text": [
      "1: I:  0\n",
      "1: I:  1\n",
      "1: I:  2\n",
      "2:  8\n",
      "2:  9\n",
      "2:  10\n",
      "3:  8\n",
      "3:  9\n",
      "3:  10\n",
      "4: Index: 0; value: 8\n",
      "4: Index: 1; value: 9\n",
      "4: Index: 2; value: 10\n"
     ]
    }
   ],
   "source": [
    "for i in range(3):\n",
    "    print(\"1: I: \", i)\n",
    "\n",
    "some_list = [8, 9, 10]\n",
    "\n",
    "for num in some_list:\n",
    "    print(\"2: \", num)\n",
    "\n",
    "for i in range(len(some_list)):\n",
    "    print(\"3: \", some_list[i])    \n",
    "\n",
    "for ix, (value) in enumerate(some_list):\n",
    "    print(f\"4: Index: {ix}; value: {value}\")\n"
   ]
  }
 ],
 "metadata": {
  "kernelspec": {
   "display_name": "Python 3.8.10 ('.venv': pipenv)",
   "language": "python",
   "name": "python3"
  },
  "language_info": {
   "codemirror_mode": {
    "name": "ipython",
    "version": 3
   },
   "file_extension": ".py",
   "mimetype": "text/x-python",
   "name": "python",
   "nbconvert_exporter": "python",
   "pygments_lexer": "ipython3",
   "version": "3.8.10"
  },
  "orig_nbformat": 4,
  "vscode": {
   "interpreter": {
    "hash": "27768773b483d82a9b2b839e3fa80b1be5789db7fd78df4eedef2df266871616"
   }
  }
 },
 "nbformat": 4,
 "nbformat_minor": 2
}
